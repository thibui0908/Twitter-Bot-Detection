{
  "nbformat": 4,
  "nbformat_minor": 0,
  "metadata": {
    "colab": {
      "provenance": [],
      "machine_shape": "hm"
    },
    "kernelspec": {
      "name": "python3",
      "display_name": "Python 3"
    },
    "language_info": {
      "name": "python"
    },
    "accelerator": "TPU",
    "gpuClass": "standard"
  },
  "cells": [
    {
      "cell_type": "code",
      "execution_count": null,
      "metadata": {
        "colab": {
          "base_uri": "https://localhost:8080/"
        },
        "id": "Wr4zqNANLODh",
        "outputId": "9bdf17ab-2b6d-4eae-f325-eded8c81f5da"
      },
      "outputs": [
        {
          "output_type": "stream",
          "name": "stdout",
          "text": [
            "Cloning into 'Twitter-Bot-Detection'...\n",
            "remote: Enumerating objects: 5419, done.\u001b[K\n",
            "remote: Counting objects: 100% (7/7), done.\u001b[K\n",
            "remote: Compressing objects: 100% (7/7), done.\u001b[K\n",
            "remote: Total 5419 (delta 1), reused 1 (delta 0), pack-reused 5412\u001b[K\n",
            "Receiving objects: 100% (5419/5419), 1.66 GiB | 27.66 MiB/s, done.\n",
            "Resolving deltas: 100% (63/63), done.\n",
            "Checking out files: 100% (2676/2676), done.\n"
          ]
        }
      ],
      "source": [
        "!git clone https://github.com/thibui0908/Twitter-Bot-Detection.git"
      ]
    },
    {
      "cell_type": "code",
      "source": [
        "!pip3 install networkit\n",
        "import networkit as nk\n",
        "import matplotlib.pyplot as plt"
      ],
      "metadata": {
        "colab": {
          "base_uri": "https://localhost:8080/",
          "height": 176
        },
        "id": "ITin4HUVLhSe",
        "outputId": "ba046eab-aac1-401b-91be-756e42c4741e"
      },
      "execution_count": null,
      "outputs": [
        {
          "output_type": "stream",
          "name": "stdout",
          "text": [
            "Looking in indexes: https://pypi.org/simple, https://us-python.pkg.dev/colab-wheels/public/simple/\n",
            "Collecting networkit\n",
            "  Downloading networkit-10.0-cp37-cp37m-manylinux_2_12_x86_64.manylinux2010_x86_64.whl (9.8 MB)\n",
            "\u001b[K     |████████████████████████████████| 9.8 MB 5.1 MB/s \n",
            "\u001b[?25hRequirement already satisfied: numpy in /usr/local/lib/python3.7/dist-packages (from networkit) (1.21.6)\n",
            "Requirement already satisfied: scipy in /usr/local/lib/python3.7/dist-packages (from networkit) (1.7.3)\n",
            "Installing collected packages: networkit\n",
            "Successfully installed networkit-10.0\n"
          ]
        },
        {
          "output_type": "display_data",
          "data": {
            "text/html": [
              "\n",
              "\t\t\t<script type=\"text/javascript\">\n",
              "\t\t\t<!--\n",
              "\t\t\t\t\n",
              "\t\t\t{\n",
              "\t\t\t\tvar element = document.getElementById('NetworKit_script');\n",
              "\t\t\t\tif (element) {\n",
              "\t\t\t\t\telement.parentNode.removeChild(element);\n",
              "\t\t\t\t}\n",
              "\t\t\t\telement = document.createElement('script');\n",
              "\t\t\t\telement.type = 'text/javascript';\n",
              "\t\t\t\telement.innerHTML = 'function NetworKit_pageEmbed(id) { var i, j; var elements; elements = document.getElementById(id).getElementsByClassName(\"Plot\"); for (i=0; i<elements.length; i++) { elements[i].id = id + \"_Plot_\" + i; var data = elements[i].getAttribute(\"data-image\").split(\"|\"); elements[i].removeAttribute(\"data-image\"); var content = \"<div class=\\\\\"Image\\\\\" id=\\\\\"\" + elements[i].id + \"_Image\\\\\" />\"; elements[i].innerHTML = content; elements[i].setAttribute(\"data-image-index\", 0); elements[i].setAttribute(\"data-image-length\", data.length); for (j=0; j<data.length; j++) { elements[i].setAttribute(\"data-image-\" + j, data[j]); } NetworKit_plotUpdate(elements[i]); elements[i].onclick = function (e) { NetworKit_overlayShow((e.target) ? e.target : e.srcElement); } } elements = document.getElementById(id).getElementsByClassName(\"HeatCell\"); for (i=0; i<elements.length; i++) { var data = parseFloat(elements[i].getAttribute(\"data-heat\")); var color = \"#00FF00\"; if (data <= 1 && data > 0) { color = \"hsla(0, 100%, 75%, \" + (data) + \")\"; } else if (data <= 0 && data >= -1) { color = \"hsla(240, 100%, 75%, \" + (-data) + \")\"; } elements[i].style.backgroundColor = color; } elements = document.getElementById(id).getElementsByClassName(\"Details\"); for (i=0; i<elements.length; i++) { elements[i].setAttribute(\"data-title\", \"-\"); NetworKit_toggleDetails(elements[i]); elements[i].onclick = function (e) { NetworKit_toggleDetails((e.target) ? e.target : e.srcElement); } } elements = document.getElementById(id).getElementsByClassName(\"MathValue\"); for (i=elements.length-1; i>=0; i--) { value = elements[i].innerHTML.trim(); if (value === \"nan\") { elements[i].parentNode.innerHTML = \"\" } } elements = document.getElementById(id).getElementsByClassName(\"SubCategory\"); for (i=elements.length-1; i>=0; i--) { value = elements[i].innerHTML.trim(); if (value === \"\") { elements[i].parentNode.removeChild(elements[i]) } } elements = document.getElementById(id).getElementsByClassName(\"Category\"); for (i=elements.length-1; i>=0; i--) { value = elements[i].innerHTML.trim(); if (value === \"\") { elements[i].parentNode.removeChild(elements[i]) } } var isFirefox = false; try { isFirefox = typeof InstallTrigger !== \"undefined\"; } catch (e) {} if (!isFirefox) { alert(\"Currently the function\\'s output is only fully supported by Firefox.\"); } } function NetworKit_plotUpdate(source) { var index = source.getAttribute(\"data-image-index\"); var data = source.getAttribute(\"data-image-\" + index); var image = document.getElementById(source.id + \"_Image\"); image.style.backgroundImage = \"url(\" + data + \")\"; } function NetworKit_showElement(id, show) { var element = document.getElementById(id); element.style.display = (show) ? \"block\" : \"none\"; } function NetworKit_overlayShow(source) { NetworKit_overlayUpdate(source); NetworKit_showElement(\"NetworKit_Overlay\", true); } function NetworKit_overlayUpdate(source) { document.getElementById(\"NetworKit_Overlay_Title\").innerHTML = source.title; var index = source.getAttribute(\"data-image-index\"); var data = source.getAttribute(\"data-image-\" + index); var image = document.getElementById(\"NetworKit_Overlay_Image\"); image.setAttribute(\"data-id\", source.id); image.style.backgroundImage = \"url(\" + data + \")\"; var link = document.getElementById(\"NetworKit_Overlay_Toolbar_Bottom_Save\"); link.href = data; link.download = source.title + \".svg\"; } function NetworKit_overlayImageShift(delta) { var image = document.getElementById(\"NetworKit_Overlay_Image\"); var source = document.getElementById(image.getAttribute(\"data-id\")); var index = parseInt(source.getAttribute(\"data-image-index\")); var length = parseInt(source.getAttribute(\"data-image-length\")); var index = (index+delta) % length; if (index < 0) { index = length + index; } source.setAttribute(\"data-image-index\", index); NetworKit_overlayUpdate(source); } function NetworKit_toggleDetails(source) { var childs = source.children; var show = false; if (source.getAttribute(\"data-title\") == \"-\") { source.setAttribute(\"data-title\", \"+\"); show = false; } else { source.setAttribute(\"data-title\", \"-\"); show = true; } for (i=0; i<childs.length; i++) { if (show) { childs[i].style.display = \"block\"; } else { childs[i].style.display = \"none\"; } } }';\n",
              "\t\t\t\telement.setAttribute('id', 'NetworKit_script');\n",
              "\t\t\t\tdocument.head.appendChild(element);\n",
              "\t\t\t}\n",
              "\t\t\n",
              "\t\t\t\t\n",
              "\t\t\t{\n",
              "\t\t\t\tvar element = document.getElementById('NetworKit_style');\n",
              "\t\t\t\tif (element) {\n",
              "\t\t\t\t\telement.parentNode.removeChild(element);\n",
              "\t\t\t\t}\n",
              "\t\t\t\telement = document.createElement('style');\n",
              "\t\t\t\telement.type = 'text/css';\n",
              "\t\t\t\telement.innerHTML = '.NetworKit_Page { font-family: Arial, Helvetica, sans-serif; font-size: 14px; } .NetworKit_Page .Value:before { font-family: Arial, Helvetica, sans-serif; font-size: 1.05em; content: attr(data-title) \":\"; margin-left: -2.5em; padding-right: 0.5em; } .NetworKit_Page .Details .Value:before { display: block; } .NetworKit_Page .Value { font-family: monospace; white-space: pre; padding-left: 2.5em; white-space: -moz-pre-wrap !important; white-space: -pre-wrap; white-space: -o-pre-wrap; white-space: pre-wrap; word-wrap: break-word; tab-size: 4; -moz-tab-size: 4; } .NetworKit_Page .Category { clear: both; padding-left: 1em; margin-bottom: 1.5em; } .NetworKit_Page .Category:before { content: attr(data-title); font-size: 1.75em; display: block; margin-left: -0.8em; margin-bottom: 0.5em; } .NetworKit_Page .SubCategory { margin-bottom: 1.5em; padding-left: 1em; } .NetworKit_Page .SubCategory:before { font-size: 1.6em; display: block; margin-left: -0.8em; margin-bottom: 0.5em; } .NetworKit_Page .SubCategory[data-title]:before { content: attr(data-title); } .NetworKit_Page .Block { display: block; } .NetworKit_Page .Block:after { content: \".\"; visibility: hidden; display: block; height: 0; clear: both; } .NetworKit_Page .Block .Thumbnail_Overview, .NetworKit_Page .Block .Thumbnail_ScatterPlot { width: 260px; float: left; } .NetworKit_Page .Block .Thumbnail_Overview img, .NetworKit_Page .Block .Thumbnail_ScatterPlot img { width: 260px; } .NetworKit_Page .Block .Thumbnail_Overview:before, .NetworKit_Page .Block .Thumbnail_ScatterPlot:before { display: block; text-align: center; font-weight: bold; } .NetworKit_Page .Block .Thumbnail_Overview:before { content: attr(data-title); } .NetworKit_Page .HeatCell { font-family: \"Courier New\", Courier, monospace; cursor: pointer; } .NetworKit_Page .HeatCell, .NetworKit_Page .HeatCellName { display: inline; padding: 0.1em; margin-right: 2px; background-color: #FFFFFF } .NetworKit_Page .HeatCellName { margin-left: 0.25em; } .NetworKit_Page .HeatCell:before { content: attr(data-heat); display: inline-block; color: #000000; width: 4em; text-align: center; } .NetworKit_Page .Measure { clear: both; } .NetworKit_Page .Measure .Details { cursor: pointer; } .NetworKit_Page .Measure .Details:before { content: \"[\" attr(data-title) \"]\"; display: block; } .NetworKit_Page .Measure .Details .Value { border-left: 1px dotted black; margin-left: 0.4em; padding-left: 3.5em; pointer-events: none; } .NetworKit_Page .Measure .Details .Spacer:before { content: \".\"; opacity: 0.0; pointer-events: none; } .NetworKit_Page .Measure .Plot { width: 440px; height: 440px; cursor: pointer; float: left; margin-left: -0.9em; margin-right: 20px; } .NetworKit_Page .Measure .Plot .Image { background-repeat: no-repeat; background-position: center center; background-size: contain; height: 100%; pointer-events: none; } .NetworKit_Page .Measure .Stat { width: 500px; float: left; } .NetworKit_Page .Measure .Stat .Group { padding-left: 1.25em; margin-bottom: 0.75em; } .NetworKit_Page .Measure .Stat .Group .Title { font-size: 1.1em; display: block; margin-bottom: 0.3em; margin-left: -0.75em; border-right-style: dotted; border-right-width: 1px; border-bottom-style: dotted; border-bottom-width: 1px; background-color: #D0D0D0; padding-left: 0.2em; } .NetworKit_Page .Measure .Stat .Group .List { -webkit-column-count: 3; -moz-column-count: 3; column-count: 3; } .NetworKit_Page .Measure .Stat .Group .List .Entry { position: relative; line-height: 1.75em; } .NetworKit_Page .Measure .Stat .Group .List .Entry[data-tooltip]:before { position: absolute; left: 0; top: -40px; background-color: #808080; color: #ffffff; height: 30px; line-height: 30px; border-radius: 5px; padding: 0 15px; content: attr(data-tooltip); white-space: nowrap; display: none; } .NetworKit_Page .Measure .Stat .Group .List .Entry[data-tooltip]:after { position: absolute; left: 15px; top: -10px; border-top: 7px solid #808080; border-left: 7px solid transparent; border-right: 7px solid transparent; content: \"\"; display: none; } .NetworKit_Page .Measure .Stat .Group .List .Entry[data-tooltip]:hover:after, .NetworKit_Page .Measure .Stat .Group .List .Entry[data-tooltip]:hover:before { display: block; } .NetworKit_Page .Measure .Stat .Group .List .Entry .MathValue { font-family: \"Courier New\", Courier, monospace; } .NetworKit_Page .Measure:after { content: \".\"; visibility: hidden; display: block; height: 0; clear: both; } .NetworKit_Page .PartitionPie { clear: both; } .NetworKit_Page .PartitionPie img { width: 600px; } #NetworKit_Overlay { left: 0px; top: 0px; display: none; position: absolute; width: 100%; height: 100%; background-color: rgba(0,0,0,0.6); z-index: 1000; } #NetworKit_Overlay_Title { position: absolute; color: white; transform: rotate(-90deg); width: 32em; height: 32em; padding-right: 0.5em; padding-top: 0.5em; text-align: right; font-size: 40px; } #NetworKit_Overlay .button { background: white; cursor: pointer; } #NetworKit_Overlay .button:before { size: 13px; display: inline-block; text-align: center; margin-top: 0.5em; margin-bottom: 0.5em; width: 1.5em; height: 1.5em; } #NetworKit_Overlay .icon-close:before { content: \"X\"; } #NetworKit_Overlay .icon-previous:before { content: \"P\"; } #NetworKit_Overlay .icon-next:before { content: \"N\"; } #NetworKit_Overlay .icon-save:before { content: \"S\"; } #NetworKit_Overlay_Toolbar_Top, #NetworKit_Overlay_Toolbar_Bottom { position: absolute; width: 40px; right: 13px; text-align: right; z-index: 1100; } #NetworKit_Overlay_Toolbar_Top { top: 0.5em; } #NetworKit_Overlay_Toolbar_Bottom { Bottom: 0.5em; } #NetworKit_Overlay_ImageContainer { position: absolute; top: 5%; left: 5%; height: 90%; width: 90%; background-repeat: no-repeat; background-position: center center; background-size: contain; } #NetworKit_Overlay_Image { height: 100%; width: 100%; background-repeat: no-repeat; background-position: center center; background-size: contain; }';\n",
              "\t\t\t\telement.setAttribute('id', 'NetworKit_style');\n",
              "\t\t\t\tdocument.head.appendChild(element);\n",
              "\t\t\t}\n",
              "\t\t\n",
              "\t\t\t\t\n",
              "\t\t\t{\n",
              "\t\t\t\tvar element = document.getElementById('NetworKit_Overlay');\n",
              "\t\t\t\tif (element) {\n",
              "\t\t\t\t\telement.parentNode.removeChild(element);\n",
              "\t\t\t\t}\n",
              "\t\t\t\telement = document.createElement('div');\n",
              "\t\t\t\telement.innerHTML = '<div id=\"NetworKit_Overlay_Toolbar_Top\"><div class=\"button icon-close\" id=\"NetworKit_Overlay_Close\" /></div><div id=\"NetworKit_Overlay_Title\" /> <div id=\"NetworKit_Overlay_ImageContainer\"> <div id=\"NetworKit_Overlay_Image\" /> </div> <div id=\"NetworKit_Overlay_Toolbar_Bottom\"> <div class=\"button icon-previous\" onclick=\"NetworKit_overlayImageShift(-1)\" /> <div class=\"button icon-next\" onclick=\"NetworKit_overlayImageShift(1)\" /> <a id=\"NetworKit_Overlay_Toolbar_Bottom_Save\"><div class=\"button icon-save\" /></a> </div>';\n",
              "\t\t\t\telement.setAttribute('id', 'NetworKit_Overlay');\n",
              "\t\t\t\tdocument.body.appendChild(element);\n",
              "\t\t\t\tdocument.getElementById('NetworKit_Overlay_Close').onclick = function (e) {\n",
              "\t\t\t\t\tdocument.getElementById('NetworKit_Overlay').style.display = 'none';\n",
              "\t\t\t\t}\n",
              "\t\t\t}\n",
              "\t\t\n",
              "\t\t\t-->\n",
              "\t\t\t</script>\n",
              "\t\t"
            ]
          },
          "metadata": {}
        }
      ]
    },
    {
      "cell_type": "code",
      "source": [
        "import os\n",
        "import csv\n",
        "import re\n",
        "\n",
        "## Graph classification\n",
        "\n",
        "graph_classification = {}\n",
        "isBot = True\n",
        "bot = 1\n",
        "real = 2\n",
        "node_labels = {}\n",
        "count = 1\n",
        "graph_number = 1\n",
        "graph_edges = {}\n",
        "\n",
        "graph_classification = {}\n",
        "\n",
        "graph_classification[bot] = []\n",
        "graph_classification[real] = []\n",
        "directories = ['Twitter-Bot-Detection/data/bot_user_edge/',\n",
        "               'Twitter-Bot-Detection/data/real_user_edge/']\n",
        "\n",
        "bot_list = []\n",
        "real_list = []\n",
        "\n",
        "def build_graph_edges(edge_list, count):\n",
        "  for edge in edge_list:\n",
        "    source = int(edge[0])\n",
        "    target = int(edge[1])\n",
        "    if source not in node_labels:\n",
        "      node_labels[source] = count\n",
        "      count += 1\n",
        "    if node_labels[source] not in graph_edges:\n",
        "      graph_edges[node_labels[source]] = set()\n",
        "    else:\n",
        "      if target not in node_labels:\n",
        "        node_labels[target] = count\n",
        "        count += 1\n",
        "      graph_edges[node_labels[source]].add(node_labels[target])\n",
        "  return count\n",
        "\n",
        "FILE_LIMIT = 500\n",
        "\n",
        "for directory in directories:\n",
        "  isBot = True if directory == 'Twitter-Bot-Detection/data/bot_user_edge/' else False\n",
        "  print('directory: ', directory, 'bot: ', isBot)\n",
        "  count_file = 0\n",
        "  for file in [file for file in os.listdir(directory) if file.endswith('.csv')]:\n",
        "    if count_file == FILE_LIMIT:\n",
        "      break\n",
        "    with open(directory + file, 'r') as csv_file:\n",
        "      edge_reader = csv.reader(csv_file)\n",
        "      edge_list = list(edge_reader)\n",
        "      graph_edges = {}\n",
        "      count = build_graph_edges(edge_list, count)\n",
        "      if isBot:\n",
        "        graph_classification[bot].append([graph_number, graph_edges])\n",
        "      else:\n",
        "        graph_classification[real].append([graph_number, graph_edges])\n",
        "      graph_number += 1\n",
        "    count_file += 1\n",
        "    if count_file%40==0: \n",
        "      print(\"Reached file #\", count_file)"
      ],
      "metadata": {
        "colab": {
          "base_uri": "https://localhost:8080/"
        },
        "id": "25CQ-UZcL6vt",
        "outputId": "632f3003-c871-48b3-8fef-9188f9eccb73"
      },
      "execution_count": null,
      "outputs": [
        {
          "output_type": "stream",
          "name": "stdout",
          "text": [
            "directory:  Twitter-Bot-Detection/data/bot_user_edge/ bot:  True\n",
            "Reached file # 40\n",
            "Reached file # 80\n",
            "Reached file # 120\n",
            "Reached file # 160\n",
            "Reached file # 200\n",
            "Reached file # 240\n",
            "Reached file # 280\n",
            "Reached file # 320\n",
            "Reached file # 360\n",
            "Reached file # 400\n",
            "Reached file # 440\n",
            "Reached file # 480\n",
            "directory:  Twitter-Bot-Detection/data/real_user_edge/ bot:  False\n",
            "Reached file # 40\n",
            "Reached file # 80\n",
            "Reached file # 160\n",
            "Reached file # 200\n",
            "Reached file # 240\n",
            "Reached file # 280\n",
            "Reached file # 320\n",
            "Reached file # 360\n",
            "Reached file # 400\n",
            "Reached file # 440\n",
            "Reached file # 480\n"
          ]
        }
      ]
    },
    {
      "cell_type": "code",
      "source": [
        "print(graph_number)\n",
        "print(count)\n",
        "print(len(node_labels))"
      ],
      "metadata": {
        "colab": {
          "base_uri": "https://localhost:8080/"
        },
        "id": "NYYsOkuZMn7y",
        "outputId": "009b68b1-9f8e-447e-bc90-05ed567e36c5"
      },
      "execution_count": null,
      "outputs": [
        {
          "output_type": "stream",
          "name": "stdout",
          "text": [
            "1001\n",
            "19727143\n",
            "19727142\n"
          ]
        }
      ]
    },
    {
      "cell_type": "code",
      "source": [
        "import numpy as np\n",
        "import pickle as pk"
      ],
      "metadata": {
        "id": "Ue4i0l3KQ3yv"
      },
      "execution_count": null,
      "outputs": []
    },
    {
      "cell_type": "code",
      "source": [
        "with open('saved_dictionary.pkl', 'wb') as f:\n",
        "    pk.dump(graph_classification, f)"
      ],
      "metadata": {
        "id": "0TEsy-eq1kDA"
      },
      "execution_count": null,
      "outputs": []
    },
    {
      "cell_type": "code",
      "source": [
        "with open('saved_dictionary.pkl', 'rb') as f:\n",
        "    graph_classification = pk.load(f)"
      ],
      "metadata": {
        "id": "zMOn-POORDyF"
      },
      "execution_count": null,
      "outputs": []
    },
    {
      "cell_type": "code",
      "source": [
        "node_labels_new = {}\n",
        "count = 1\n",
        "\n",
        "for classification in graph_classification.keys():\n",
        "  for graph_list in graph_classification[classification]:\n",
        "    graph_edges = graph_list[1]\n",
        "    for source in graph_edges.keys():\n",
        "      for target in graph_edges[source]:\n",
        "        if classification == 2:\n",
        "          if source not in node_labels_new:\n",
        "            node_labels_new[source] = count\n",
        "            count += 1\n",
        "          if target not in node_labels_new:\n",
        "            node_labels_new[target] = count\n",
        "            count += 1"
      ],
      "metadata": {
        "id": "CjYpcWHhQs7s"
      },
      "execution_count": null,
      "outputs": []
    },
    {
      "cell_type": "code",
      "source": [
        "real_edges = []\n",
        "for classification in graph_classification.keys():\n",
        "  for graph_list in graph_classification[classification]:\n",
        "    graph_edges = graph_list[1]\n",
        "    for source in graph_edges.keys():\n",
        "      for target in graph_edges[source]:\n",
        "        if classification == 2:\n",
        "          real_edges.append([node_labels_new[source], node_labels_new[target]])"
      ],
      "metadata": {
        "id": "ESiVYPxHQ0lJ"
      },
      "execution_count": null,
      "outputs": []
    },
    {
      "cell_type": "code",
      "source": [
        "print(len(real_edges))"
      ],
      "metadata": {
        "colab": {
          "base_uri": "https://localhost:8080/"
        },
        "id": "C5fOzHFtRqgo",
        "outputId": "749a3e98-735e-42fe-9dc4-ed9b75988ffa"
      },
      "execution_count": null,
      "outputs": [
        {
          "output_type": "stream",
          "name": "stdout",
          "text": [
            "29897371\n"
          ]
        }
      ]
    },
    {
      "cell_type": "code",
      "source": [
        "!pip3 install networkit\n",
        "import networkit as nk\n",
        "import matplotlib.pyplot as plt"
      ],
      "metadata": {
        "colab": {
          "base_uri": "https://localhost:8080/",
          "height": 106
        },
        "id": "rAh_T6bG6uZl",
        "outputId": "65db0ed0-2084-4538-9d63-cbe5a160d419"
      },
      "execution_count": null,
      "outputs": [
        {
          "output_type": "stream",
          "name": "stdout",
          "text": [
            "Looking in indexes: https://pypi.org/simple, https://us-python.pkg.dev/colab-wheels/public/simple/\n",
            "Requirement already satisfied: networkit in /usr/local/lib/python3.7/dist-packages (10.0)\n",
            "Requirement already satisfied: scipy in /usr/local/lib/python3.7/dist-packages (from networkit) (1.7.3)\n",
            "Requirement already satisfied: numpy in /usr/local/lib/python3.7/dist-packages (from networkit) (1.21.6)\n"
          ]
        },
        {
          "output_type": "display_data",
          "data": {
            "text/html": [
              "\n",
              "\t\t\t<script type=\"text/javascript\">\n",
              "\t\t\t<!--\n",
              "\t\t\t\t\n",
              "\t\t\t{\n",
              "\t\t\t\tvar element = document.getElementById('NetworKit_script');\n",
              "\t\t\t\tif (element) {\n",
              "\t\t\t\t\telement.parentNode.removeChild(element);\n",
              "\t\t\t\t}\n",
              "\t\t\t\telement = document.createElement('script');\n",
              "\t\t\t\telement.type = 'text/javascript';\n",
              "\t\t\t\telement.innerHTML = 'function NetworKit_pageEmbed(id) { var i, j; var elements; elements = document.getElementById(id).getElementsByClassName(\"Plot\"); for (i=0; i<elements.length; i++) { elements[i].id = id + \"_Plot_\" + i; var data = elements[i].getAttribute(\"data-image\").split(\"|\"); elements[i].removeAttribute(\"data-image\"); var content = \"<div class=\\\\\"Image\\\\\" id=\\\\\"\" + elements[i].id + \"_Image\\\\\" />\"; elements[i].innerHTML = content; elements[i].setAttribute(\"data-image-index\", 0); elements[i].setAttribute(\"data-image-length\", data.length); for (j=0; j<data.length; j++) { elements[i].setAttribute(\"data-image-\" + j, data[j]); } NetworKit_plotUpdate(elements[i]); elements[i].onclick = function (e) { NetworKit_overlayShow((e.target) ? e.target : e.srcElement); } } elements = document.getElementById(id).getElementsByClassName(\"HeatCell\"); for (i=0; i<elements.length; i++) { var data = parseFloat(elements[i].getAttribute(\"data-heat\")); var color = \"#00FF00\"; if (data <= 1 && data > 0) { color = \"hsla(0, 100%, 75%, \" + (data) + \")\"; } else if (data <= 0 && data >= -1) { color = \"hsla(240, 100%, 75%, \" + (-data) + \")\"; } elements[i].style.backgroundColor = color; } elements = document.getElementById(id).getElementsByClassName(\"Details\"); for (i=0; i<elements.length; i++) { elements[i].setAttribute(\"data-title\", \"-\"); NetworKit_toggleDetails(elements[i]); elements[i].onclick = function (e) { NetworKit_toggleDetails((e.target) ? e.target : e.srcElement); } } elements = document.getElementById(id).getElementsByClassName(\"MathValue\"); for (i=elements.length-1; i>=0; i--) { value = elements[i].innerHTML.trim(); if (value === \"nan\") { elements[i].parentNode.innerHTML = \"\" } } elements = document.getElementById(id).getElementsByClassName(\"SubCategory\"); for (i=elements.length-1; i>=0; i--) { value = elements[i].innerHTML.trim(); if (value === \"\") { elements[i].parentNode.removeChild(elements[i]) } } elements = document.getElementById(id).getElementsByClassName(\"Category\"); for (i=elements.length-1; i>=0; i--) { value = elements[i].innerHTML.trim(); if (value === \"\") { elements[i].parentNode.removeChild(elements[i]) } } var isFirefox = false; try { isFirefox = typeof InstallTrigger !== \"undefined\"; } catch (e) {} if (!isFirefox) { alert(\"Currently the function\\'s output is only fully supported by Firefox.\"); } } function NetworKit_plotUpdate(source) { var index = source.getAttribute(\"data-image-index\"); var data = source.getAttribute(\"data-image-\" + index); var image = document.getElementById(source.id + \"_Image\"); image.style.backgroundImage = \"url(\" + data + \")\"; } function NetworKit_showElement(id, show) { var element = document.getElementById(id); element.style.display = (show) ? \"block\" : \"none\"; } function NetworKit_overlayShow(source) { NetworKit_overlayUpdate(source); NetworKit_showElement(\"NetworKit_Overlay\", true); } function NetworKit_overlayUpdate(source) { document.getElementById(\"NetworKit_Overlay_Title\").innerHTML = source.title; var index = source.getAttribute(\"data-image-index\"); var data = source.getAttribute(\"data-image-\" + index); var image = document.getElementById(\"NetworKit_Overlay_Image\"); image.setAttribute(\"data-id\", source.id); image.style.backgroundImage = \"url(\" + data + \")\"; var link = document.getElementById(\"NetworKit_Overlay_Toolbar_Bottom_Save\"); link.href = data; link.download = source.title + \".svg\"; } function NetworKit_overlayImageShift(delta) { var image = document.getElementById(\"NetworKit_Overlay_Image\"); var source = document.getElementById(image.getAttribute(\"data-id\")); var index = parseInt(source.getAttribute(\"data-image-index\")); var length = parseInt(source.getAttribute(\"data-image-length\")); var index = (index+delta) % length; if (index < 0) { index = length + index; } source.setAttribute(\"data-image-index\", index); NetworKit_overlayUpdate(source); } function NetworKit_toggleDetails(source) { var childs = source.children; var show = false; if (source.getAttribute(\"data-title\") == \"-\") { source.setAttribute(\"data-title\", \"+\"); show = false; } else { source.setAttribute(\"data-title\", \"-\"); show = true; } for (i=0; i<childs.length; i++) { if (show) { childs[i].style.display = \"block\"; } else { childs[i].style.display = \"none\"; } } }';\n",
              "\t\t\t\telement.setAttribute('id', 'NetworKit_script');\n",
              "\t\t\t\tdocument.head.appendChild(element);\n",
              "\t\t\t}\n",
              "\t\t\n",
              "\t\t\t\t\n",
              "\t\t\t{\n",
              "\t\t\t\tvar element = document.getElementById('NetworKit_style');\n",
              "\t\t\t\tif (element) {\n",
              "\t\t\t\t\telement.parentNode.removeChild(element);\n",
              "\t\t\t\t}\n",
              "\t\t\t\telement = document.createElement('style');\n",
              "\t\t\t\telement.type = 'text/css';\n",
              "\t\t\t\telement.innerHTML = '.NetworKit_Page { font-family: Arial, Helvetica, sans-serif; font-size: 14px; } .NetworKit_Page .Value:before { font-family: Arial, Helvetica, sans-serif; font-size: 1.05em; content: attr(data-title) \":\"; margin-left: -2.5em; padding-right: 0.5em; } .NetworKit_Page .Details .Value:before { display: block; } .NetworKit_Page .Value { font-family: monospace; white-space: pre; padding-left: 2.5em; white-space: -moz-pre-wrap !important; white-space: -pre-wrap; white-space: -o-pre-wrap; white-space: pre-wrap; word-wrap: break-word; tab-size: 4; -moz-tab-size: 4; } .NetworKit_Page .Category { clear: both; padding-left: 1em; margin-bottom: 1.5em; } .NetworKit_Page .Category:before { content: attr(data-title); font-size: 1.75em; display: block; margin-left: -0.8em; margin-bottom: 0.5em; } .NetworKit_Page .SubCategory { margin-bottom: 1.5em; padding-left: 1em; } .NetworKit_Page .SubCategory:before { font-size: 1.6em; display: block; margin-left: -0.8em; margin-bottom: 0.5em; } .NetworKit_Page .SubCategory[data-title]:before { content: attr(data-title); } .NetworKit_Page .Block { display: block; } .NetworKit_Page .Block:after { content: \".\"; visibility: hidden; display: block; height: 0; clear: both; } .NetworKit_Page .Block .Thumbnail_Overview, .NetworKit_Page .Block .Thumbnail_ScatterPlot { width: 260px; float: left; } .NetworKit_Page .Block .Thumbnail_Overview img, .NetworKit_Page .Block .Thumbnail_ScatterPlot img { width: 260px; } .NetworKit_Page .Block .Thumbnail_Overview:before, .NetworKit_Page .Block .Thumbnail_ScatterPlot:before { display: block; text-align: center; font-weight: bold; } .NetworKit_Page .Block .Thumbnail_Overview:before { content: attr(data-title); } .NetworKit_Page .HeatCell { font-family: \"Courier New\", Courier, monospace; cursor: pointer; } .NetworKit_Page .HeatCell, .NetworKit_Page .HeatCellName { display: inline; padding: 0.1em; margin-right: 2px; background-color: #FFFFFF } .NetworKit_Page .HeatCellName { margin-left: 0.25em; } .NetworKit_Page .HeatCell:before { content: attr(data-heat); display: inline-block; color: #000000; width: 4em; text-align: center; } .NetworKit_Page .Measure { clear: both; } .NetworKit_Page .Measure .Details { cursor: pointer; } .NetworKit_Page .Measure .Details:before { content: \"[\" attr(data-title) \"]\"; display: block; } .NetworKit_Page .Measure .Details .Value { border-left: 1px dotted black; margin-left: 0.4em; padding-left: 3.5em; pointer-events: none; } .NetworKit_Page .Measure .Details .Spacer:before { content: \".\"; opacity: 0.0; pointer-events: none; } .NetworKit_Page .Measure .Plot { width: 440px; height: 440px; cursor: pointer; float: left; margin-left: -0.9em; margin-right: 20px; } .NetworKit_Page .Measure .Plot .Image { background-repeat: no-repeat; background-position: center center; background-size: contain; height: 100%; pointer-events: none; } .NetworKit_Page .Measure .Stat { width: 500px; float: left; } .NetworKit_Page .Measure .Stat .Group { padding-left: 1.25em; margin-bottom: 0.75em; } .NetworKit_Page .Measure .Stat .Group .Title { font-size: 1.1em; display: block; margin-bottom: 0.3em; margin-left: -0.75em; border-right-style: dotted; border-right-width: 1px; border-bottom-style: dotted; border-bottom-width: 1px; background-color: #D0D0D0; padding-left: 0.2em; } .NetworKit_Page .Measure .Stat .Group .List { -webkit-column-count: 3; -moz-column-count: 3; column-count: 3; } .NetworKit_Page .Measure .Stat .Group .List .Entry { position: relative; line-height: 1.75em; } .NetworKit_Page .Measure .Stat .Group .List .Entry[data-tooltip]:before { position: absolute; left: 0; top: -40px; background-color: #808080; color: #ffffff; height: 30px; line-height: 30px; border-radius: 5px; padding: 0 15px; content: attr(data-tooltip); white-space: nowrap; display: none; } .NetworKit_Page .Measure .Stat .Group .List .Entry[data-tooltip]:after { position: absolute; left: 15px; top: -10px; border-top: 7px solid #808080; border-left: 7px solid transparent; border-right: 7px solid transparent; content: \"\"; display: none; } .NetworKit_Page .Measure .Stat .Group .List .Entry[data-tooltip]:hover:after, .NetworKit_Page .Measure .Stat .Group .List .Entry[data-tooltip]:hover:before { display: block; } .NetworKit_Page .Measure .Stat .Group .List .Entry .MathValue { font-family: \"Courier New\", Courier, monospace; } .NetworKit_Page .Measure:after { content: \".\"; visibility: hidden; display: block; height: 0; clear: both; } .NetworKit_Page .PartitionPie { clear: both; } .NetworKit_Page .PartitionPie img { width: 600px; } #NetworKit_Overlay { left: 0px; top: 0px; display: none; position: absolute; width: 100%; height: 100%; background-color: rgba(0,0,0,0.6); z-index: 1000; } #NetworKit_Overlay_Title { position: absolute; color: white; transform: rotate(-90deg); width: 32em; height: 32em; padding-right: 0.5em; padding-top: 0.5em; text-align: right; font-size: 40px; } #NetworKit_Overlay .button { background: white; cursor: pointer; } #NetworKit_Overlay .button:before { size: 13px; display: inline-block; text-align: center; margin-top: 0.5em; margin-bottom: 0.5em; width: 1.5em; height: 1.5em; } #NetworKit_Overlay .icon-close:before { content: \"X\"; } #NetworKit_Overlay .icon-previous:before { content: \"P\"; } #NetworKit_Overlay .icon-next:before { content: \"N\"; } #NetworKit_Overlay .icon-save:before { content: \"S\"; } #NetworKit_Overlay_Toolbar_Top, #NetworKit_Overlay_Toolbar_Bottom { position: absolute; width: 40px; right: 13px; text-align: right; z-index: 1100; } #NetworKit_Overlay_Toolbar_Top { top: 0.5em; } #NetworKit_Overlay_Toolbar_Bottom { Bottom: 0.5em; } #NetworKit_Overlay_ImageContainer { position: absolute; top: 5%; left: 5%; height: 90%; width: 90%; background-repeat: no-repeat; background-position: center center; background-size: contain; } #NetworKit_Overlay_Image { height: 100%; width: 100%; background-repeat: no-repeat; background-position: center center; background-size: contain; }';\n",
              "\t\t\t\telement.setAttribute('id', 'NetworKit_style');\n",
              "\t\t\t\tdocument.head.appendChild(element);\n",
              "\t\t\t}\n",
              "\t\t\n",
              "\t\t\t\t\n",
              "\t\t\t{\n",
              "\t\t\t\tvar element = document.getElementById('NetworKit_Overlay');\n",
              "\t\t\t\tif (element) {\n",
              "\t\t\t\t\telement.parentNode.removeChild(element);\n",
              "\t\t\t\t}\n",
              "\t\t\t\telement = document.createElement('div');\n",
              "\t\t\t\telement.innerHTML = '<div id=\"NetworKit_Overlay_Toolbar_Top\"><div class=\"button icon-close\" id=\"NetworKit_Overlay_Close\" /></div><div id=\"NetworKit_Overlay_Title\" /> <div id=\"NetworKit_Overlay_ImageContainer\"> <div id=\"NetworKit_Overlay_Image\" /> </div> <div id=\"NetworKit_Overlay_Toolbar_Bottom\"> <div class=\"button icon-previous\" onclick=\"NetworKit_overlayImageShift(-1)\" /> <div class=\"button icon-next\" onclick=\"NetworKit_overlayImageShift(1)\" /> <a id=\"NetworKit_Overlay_Toolbar_Bottom_Save\"><div class=\"button icon-save\" /></a> </div>';\n",
              "\t\t\t\telement.setAttribute('id', 'NetworKit_Overlay');\n",
              "\t\t\t\tdocument.body.appendChild(element);\n",
              "\t\t\t\tdocument.getElementById('NetworKit_Overlay_Close').onclick = function (e) {\n",
              "\t\t\t\t\tdocument.getElementById('NetworKit_Overlay').style.display = 'none';\n",
              "\t\t\t\t}\n",
              "\t\t\t}\n",
              "\t\t\n",
              "\t\t\t-->\n",
              "\t\t\t</script>\n",
              "\t\t"
            ]
          },
          "metadata": {}
        }
      ]
    },
    {
      "cell_type": "code",
      "source": [
        "G_Fake = nk.Graph()\n",
        "G_Real = nk.Graph()\n",
        "for classification in graph_classification.keys():\n",
        "  for graph_list in graph_classification[classification]:\n",
        "    graph_edges = graph_list[1]\n",
        "    for source in graph_edges.keys():\n",
        "      for target in graph_edges[source]:\n",
        "        if classification == 1:\n",
        "          G_Fake.addEdge(source, target, addMissing = True)\n",
        "        else:\n",
        "          G_Real.addEdge(node_labels_new[source], node_labels_new[target], addMissing = True)"
      ],
      "metadata": {
        "id": "5egcpt5AWgwV"
      },
      "execution_count": null,
      "outputs": []
    },
    {
      "cell_type": "code",
      "source": [
        "print('------------------------------------------------')\n",
        "print('Overview of Bot Graph:')\n",
        "print('------------------------------------------------')\n",
        "nk.overview(G_Fake)\n",
        "print('------------------------------------------------')\n",
        "print('Overview of Real User Graph:')\n",
        "print('------------------------------------------------')\n",
        "nk.overview(G_Real)"
      ],
      "metadata": {
        "colab": {
          "base_uri": "https://localhost:8080/"
        },
        "id": "uFGZvZZ6XnML",
        "outputId": "c6ae61a9-781d-4153-b040-16105e5d45ca"
      },
      "execution_count": null,
      "outputs": [
        {
          "output_type": "stream",
          "name": "stdout",
          "text": [
            "------------------------------------------------\n",
            "Overview of Bot Graph:\n",
            "------------------------------------------------\n",
            "Network Properties:\n",
            "nodes, edges\t\t\t5104703, 8025280\n",
            "directed?\t\t\tFalse\n",
            "weighted?\t\t\tFalse\n",
            "isolated nodes\t\t\t4\n",
            "self-loops\t\t\t18\n",
            "density\t\t\t\t0.000001\n",
            "min/max/avg degree\t\t0, 10094, 3.144266\n",
            "degree assortativity\t\t-0.556486\n",
            "number of connected components\t16\n",
            "size of largest component\t5104601 (100.00 %)\n",
            "------------------------------------------------\n",
            "Overview of Real User Graph:\n",
            "------------------------------------------------\n",
            "Network Properties:\n",
            "nodes, edges\t\t\t16683681, 29897371\n",
            "directed?\t\t\tFalse\n",
            "weighted?\t\t\tFalse\n",
            "isolated nodes\t\t\t1\n",
            "self-loops\t\t\t9\n",
            "density\t\t\t\t0.000000\n",
            "min/max/avg degree\t\t0, 30007, 3.584025\n",
            "degree assortativity\t\t-0.374393\n",
            "number of connected components\t6\n",
            "size of largest component\t16683639 (100.00 %)\n"
          ]
        }
      ]
    },
    {
      "cell_type": "code",
      "source": [
        "print('------------------------------------------------')\n",
        "print('Bot community detection:')\n",
        "print('------------------------------------------------')\n",
        "communities_fake = nk.community.detectCommunities(G_Fake)\n",
        "print('------------------------------------------------')\n",
        "print('Real user community detection:')\n",
        "print('------------------------------------------------')\n",
        "communities_real = nk.community.detectCommunities(G_Real)"
      ],
      "metadata": {
        "colab": {
          "base_uri": "https://localhost:8080/"
        },
        "id": "gMdpuRlEYHiK",
        "outputId": "40e4f3a7-7cb8-4bc0-a8c2-4d34205f8181"
      },
      "execution_count": null,
      "outputs": [
        {
          "output_type": "stream",
          "name": "stdout",
          "text": [
            "------------------------------------------------\n",
            "Bot community detection:\n",
            "------------------------------------------------\n"
          ]
        },
        {
          "output_type": "stream",
          "name": "stderr",
          "text": [
            "/usr/local/lib/python3.7/dist-packages/networkit/stopwatch.py:49: UserWarning: networkit.Timer is deprecated, will be removed in future updates.\n",
            "  warn(\"networkit.Timer is deprecated, will be removed in future updates.\")\n"
          ]
        },
        {
          "output_type": "stream",
          "name": "stdout",
          "text": [
            "Communities detected in 3.18414 [s]\n",
            "solution properties:\n",
            "-------------------  --------------\n",
            "# communities            94\n",
            "min community size        1\n",
            "max community size   424309\n",
            "avg. community size   54305.4\n",
            "imbalance                 7.8133\n",
            "edge cut             782560\n",
            "edge cut (portion)        0.0975119\n",
            "modularity                0.849274\n",
            "-------------------  --------------\n",
            "------------------------------------------------\n",
            "Real user community detection:\n",
            "------------------------------------------------\n",
            "Communities detected in 16.57909 [s]\n",
            "solution properties:\n",
            "-------------------  ----------------\n",
            "# communities            75\n",
            "min community size        1\n",
            "max community size        1.40335e+06\n",
            "avg. community size  222449\n",
            "imbalance                 6.30862\n",
            "edge cut                  4.273e+06\n",
            "edge cut (portion)        0.142922\n",
            "modularity                0.813578\n",
            "-------------------  ----------------\n"
          ]
        }
      ]
    },
    {
      "cell_type": "code",
      "source": [
        "#degree distribution\n",
        "dd = sorted(nk.centrality.DegreeCentrality(G_Fake).run().scores(), reverse=True)\n",
        "plt.xscale(\"log\")\n",
        "plt.xlabel(\"degree\")\n",
        "plt.yscale(\"log\")\n",
        "plt.ylabel(\"number of nodes\")\n",
        "plt.plot(dd)\n",
        "plt.show()"
      ],
      "metadata": {
        "colab": {
          "base_uri": "https://localhost:8080/",
          "height": 283
        },
        "id": "_O0JCP9qY2VV",
        "outputId": "481d9b9a-7877-4324-e02d-be3808c18152"
      },
      "execution_count": null,
      "outputs": [
        {
          "output_type": "display_data",
          "data": {
            "text/plain": [
              "<Figure size 432x288 with 1 Axes>"
            ],
            "image/png": "[encoded data removed]"
          },
          "metadata": {}
        }
      ]
    },
    {
      "cell_type": "code",
      "source": [
        "dd = sorted(nk.centrality.DegreeCentrality(G_Real).run().scores(), reverse=True)\n",
        "plt.xscale(\"log\")\n",
        "plt.xlabel(\"degree\")\n",
        "plt.yscale(\"log\")\n",
        "plt.ylabel(\"number of nodes\")\n",
        "plt.plot(dd)\n",
        "plt.show()"
      ],
      "metadata": {
        "colab": {
          "base_uri": "https://localhost:8080/",
          "height": 283
        },
        "id": "A8BImA9rYy9S",
        "outputId": "e8fd12ba-661d-409a-9baf-c42d9d0ff0e7"
      },
      "execution_count": null,
      "outputs": [
        {
          "output_type": "display_data",
          "data": {
            "text/plain": [
              "<Figure size 432x288 with 1 Axes>"
            ],
            "image/png": "[encoded data removed]"
          },
          "metadata": {}
        }
      ]
    },
    {
      "cell_type": "code",
      "source": [
        "b = []\n",
        "c = []\n",
        "nodes = {}\n",
        "\n",
        "for classification in graph_classification.keys():\n",
        "  for graph_list in graph_classification[classification]:\n",
        "    a = []\n",
        "    graph_edges = graph_list[1]\n",
        "    edges = set()\n",
        "    n = {}\n",
        "    labeled_edges = {}\n",
        "    for source in graph_edges.keys():\n",
        "      for target in graph_edges[source]:\n",
        "        if source not in nodes:\n",
        "          n[source] = classification\n",
        "        if target not in nodes:\n",
        "          n[target] = classification\n",
        "        edges.add((source, target))\n",
        "        labeled_edges[(source, target)] = classification\n",
        "    if len(edges) != 0:\n",
        "      a.append(edges)\n",
        "      a.append(n)\n",
        "      a.append(labeled_edges)\n",
        "      c.append(a)\n",
        "      b.append(classification)\n",
        "\n",
        "USER = {}\n",
        "USER['data'] = c\n",
        "USER['target'] = b"
      ],
      "metadata": {
        "id": "mo8xPfbuZE9i"
      },
      "execution_count": null,
      "outputs": []
    },
    {
      "cell_type": "code",
      "source": [
        "G = USER['data']\n",
        "y = USER['target']\n",
        "G = np.asarray(G)\n",
        "y = np.asarray(y)\n",
        "print(G.ndim)\n",
        "print(y.ndim)\n",
        "print(type(G[1][1]))\n",
        "print(len(G))\n",
        "print(G[0])\n",
        "print(len(y))"
      ],
      "metadata": {
        "colab": {
          "base_uri": "https://localhost:8080/"
        },
        "id": "e4zXC6A8ZHJQ",
        "outputId": "fa105aa4-629a-47bc-a6ea-ea341994041d"
      },
      "execution_count": null,
      "outputs": [
        {
          "output_type": "stream",
          "name": "stdout",
          "text": [
            "2\n",
            "1\n",
            "<class 'dict'>\n",
            "990\n",
            "[{(1, 34), (1, 149), (1, 259), (1, 108), (1, 215), (1, 154), (1, 17), (1, 196), (1, 143), (1, 83), (1, 6), (1, 201), (1, 188), (1, 64), (1, 11), (1, 254), (1, 161), (1, 276), (1, 117), (1, 56), (1, 227), (1, 281), (1, 122), (1, 45), (1, 144), (1, 270), (1, 111), (1, 210), (1, 133), (1, 28), (1, 199), (1, 138), (1, 94), (1, 244), (1, 191), (1, 67), (1, 54), (1, 249), (1, 172), (1, 279), (1, 112), (1, 59), (1, 238), (1, 260), (1, 101), (1, 40), (1, 147), (1, 265), (1, 106), (1, 221), (1, 128), (1, 84), (1, 31), (1, 194), (1, 181), (1, 89), (1, 12), (1, 247), (1, 186), (1, 78), (1, 49), (1, 228), (1, 175), (1, 274), (1, 115), (1, 38), (1, 233), (1, 263), (1, 96), (1, 43), (1, 158), (1, 21), (1, 216), (1, 131), (1, 87), (1, 26), (1, 205), (1, 176), (1, 68), (1, 15), (1, 242), (1, 165), (1, 73), (1, 60), (1, 231), (1, 170), (1, 126), (1, 33), (1, 148), (1, 258), (1, 99), (1, 214), (1, 153), (1, 16), (1, 219), (1, 142), (1, 82), (1, 5), (1, 200), (1, 179), (1, 71), (1, 10), (1, 253), (1, 160), (1, 116), (1, 63), (1, 226), (1, 280), (1, 121), (1, 44), (1, 151), (1, 269), (1, 110), (1, 209), (1, 132), (1, 19), (1, 198), (1, 137), (1, 93), (1, 203), (1, 190), (1, 66), (1, 53), (1, 248), (1, 163), (1, 278), (1, 119), (1, 58), (1, 237), (1, 100), (1, 47), (1, 146), (1, 264), (1, 105), (1, 220), (1, 135), (1, 30), (1, 193), (1, 180), (1, 88), (1, 3), (1, 246), (1, 185), (1, 77), (1, 48), (1, 251), (1, 174), (1, 273), (1, 114), (1, 37), (1, 232), (1, 262), (1, 103), (1, 42), (1, 157), (1, 267), (1, 20), (1, 223), (1, 130), (1, 86), (1, 25), (1, 204), (1, 183), (1, 91), (1, 14), (1, 241), (1, 164), (1, 72), (1, 51), (1, 230), (1, 169), (1, 125), (1, 32), (1, 235), (1, 257), (1, 98), (1, 213), (1, 152), (1, 23), (1, 218), (1, 141), (1, 81), (1, 4), (1, 207), (1, 178), (1, 70), (1, 9), (1, 252), (1, 167), (1, 75), (1, 62), (1, 225), (1, 120), (1, 35), (1, 150), (1, 268), (1, 109), (1, 208), (1, 155), (1, 18), (1, 197), (1, 136), (1, 92), (1, 7), (1, 202), (1, 189), (1, 65), (1, 52), (1, 255), (1, 162), (1, 277), (1, 118), (1, 57), (1, 236), (1, 282), (1, 123), (1, 46), (1, 145), (1, 271), (1, 104), (1, 211), (1, 134), (1, 29), (1, 192), (1, 139), (1, 95), (1, 2), (1, 245), (1, 184), (1, 76), (1, 55), (1, 250), (1, 173), (1, 272), (1, 113), (1, 36), (1, 239), (1, 261), (1, 102), (1, 41), (1, 156), (1, 266), (1, 107), (1, 222), (1, 129), (1, 85), (1, 24), (1, 195), (1, 182), (1, 90), (1, 13), (1, 240), (1, 187), (1, 79), (1, 50), (1, 229), (1, 168), (1, 275), (1, 124), (1, 39), (1, 234), (1, 256), (1, 97), (1, 212), (1, 159), (1, 22), (1, 217), (1, 140), (1, 80), (1, 27), (1, 206), (1, 177), (1, 69), (1, 8), (1, 243), (1, 166), (1, 74), (1, 61), (1, 224), (1, 171), (1, 127)}\n",
            " {1: 1, 2: 1, 3: 1, 4: 1, 5: 1, 6: 1, 7: 1, 8: 1, 9: 1, 10: 1, 11: 1, 12: 1, 13: 1, 14: 1, 15: 1, 16: 1, 17: 1, 18: 1, 19: 1, 20: 1, 21: 1, 22: 1, 23: 1, 24: 1, 25: 1, 26: 1, 27: 1, 28: 1, 29: 1, 30: 1, 31: 1, 32: 1, 33: 1, 34: 1, 35: 1, 36: 1, 37: 1, 38: 1, 39: 1, 40: 1, 41: 1, 42: 1, 43: 1, 44: 1, 45: 1, 46: 1, 47: 1, 48: 1, 49: 1, 50: 1, 51: 1, 52: 1, 53: 1, 54: 1, 55: 1, 56: 1, 57: 1, 58: 1, 59: 1, 60: 1, 61: 1, 62: 1, 63: 1, 64: 1, 65: 1, 66: 1, 67: 1, 68: 1, 69: 1, 70: 1, 71: 1, 72: 1, 73: 1, 74: 1, 75: 1, 76: 1, 77: 1, 78: 1, 79: 1, 80: 1, 81: 1, 82: 1, 83: 1, 84: 1, 85: 1, 86: 1, 87: 1, 88: 1, 89: 1, 90: 1, 91: 1, 92: 1, 93: 1, 94: 1, 95: 1, 96: 1, 97: 1, 98: 1, 99: 1, 100: 1, 101: 1, 102: 1, 103: 1, 104: 1, 105: 1, 106: 1, 107: 1, 108: 1, 109: 1, 110: 1, 111: 1, 112: 1, 113: 1, 114: 1, 115: 1, 116: 1, 117: 1, 118: 1, 119: 1, 120: 1, 121: 1, 122: 1, 123: 1, 124: 1, 125: 1, 126: 1, 127: 1, 128: 1, 129: 1, 130: 1, 131: 1, 132: 1, 133: 1, 134: 1, 135: 1, 136: 1, 137: 1, 138: 1, 139: 1, 140: 1, 141: 1, 142: 1, 143: 1, 144: 1, 145: 1, 146: 1, 147: 1, 148: 1, 149: 1, 150: 1, 151: 1, 152: 1, 153: 1, 154: 1, 155: 1, 156: 1, 157: 1, 158: 1, 159: 1, 160: 1, 161: 1, 162: 1, 163: 1, 164: 1, 165: 1, 166: 1, 167: 1, 168: 1, 169: 1, 170: 1, 171: 1, 172: 1, 173: 1, 174: 1, 175: 1, 176: 1, 177: 1, 178: 1, 179: 1, 180: 1, 181: 1, 182: 1, 183: 1, 184: 1, 185: 1, 186: 1, 187: 1, 188: 1, 189: 1, 190: 1, 191: 1, 192: 1, 193: 1, 194: 1, 195: 1, 196: 1, 197: 1, 198: 1, 199: 1, 200: 1, 201: 1, 202: 1, 203: 1, 204: 1, 205: 1, 206: 1, 207: 1, 208: 1, 209: 1, 210: 1, 211: 1, 212: 1, 213: 1, 214: 1, 215: 1, 216: 1, 217: 1, 218: 1, 219: 1, 220: 1, 221: 1, 222: 1, 223: 1, 224: 1, 225: 1, 226: 1, 227: 1, 228: 1, 229: 1, 230: 1, 231: 1, 232: 1, 233: 1, 234: 1, 235: 1, 236: 1, 237: 1, 238: 1, 239: 1, 240: 1, 241: 1, 242: 1, 243: 1, 244: 1, 245: 1, 246: 1, 247: 1, 248: 1, 249: 1, 250: 1, 251: 1, 252: 1, 253: 1, 254: 1, 255: 1, 256: 1, 257: 1, 258: 1, 259: 1, 260: 1, 261: 1, 262: 1, 263: 1, 264: 1, 265: 1, 266: 1, 267: 1, 268: 1, 269: 1, 270: 1, 271: 1, 272: 1, 273: 1, 274: 1, 275: 1, 276: 1, 277: 1, 278: 1, 279: 1, 280: 1, 281: 1, 282: 1}\n",
            " {(1, 2): 1, (1, 3): 1, (1, 4): 1, (1, 5): 1, (1, 6): 1, (1, 7): 1, (1, 8): 1, (1, 9): 1, (1, 10): 1, (1, 11): 1, (1, 12): 1, (1, 13): 1, (1, 14): 1, (1, 15): 1, (1, 16): 1, (1, 17): 1, (1, 18): 1, (1, 19): 1, (1, 20): 1, (1, 21): 1, (1, 22): 1, (1, 23): 1, (1, 24): 1, (1, 25): 1, (1, 26): 1, (1, 27): 1, (1, 28): 1, (1, 29): 1, (1, 30): 1, (1, 31): 1, (1, 32): 1, (1, 33): 1, (1, 34): 1, (1, 35): 1, (1, 36): 1, (1, 37): 1, (1, 38): 1, (1, 39): 1, (1, 40): 1, (1, 41): 1, (1, 42): 1, (1, 43): 1, (1, 44): 1, (1, 45): 1, (1, 46): 1, (1, 47): 1, (1, 48): 1, (1, 49): 1, (1, 50): 1, (1, 51): 1, (1, 52): 1, (1, 53): 1, (1, 54): 1, (1, 55): 1, (1, 56): 1, (1, 57): 1, (1, 58): 1, (1, 59): 1, (1, 60): 1, (1, 61): 1, (1, 62): 1, (1, 63): 1, (1, 64): 1, (1, 65): 1, (1, 66): 1, (1, 67): 1, (1, 68): 1, (1, 69): 1, (1, 70): 1, (1, 71): 1, (1, 72): 1, (1, 73): 1, (1, 74): 1, (1, 75): 1, (1, 76): 1, (1, 77): 1, (1, 78): 1, (1, 79): 1, (1, 80): 1, (1, 81): 1, (1, 82): 1, (1, 83): 1, (1, 84): 1, (1, 85): 1, (1, 86): 1, (1, 87): 1, (1, 88): 1, (1, 89): 1, (1, 90): 1, (1, 91): 1, (1, 92): 1, (1, 93): 1, (1, 94): 1, (1, 95): 1, (1, 96): 1, (1, 97): 1, (1, 98): 1, (1, 99): 1, (1, 100): 1, (1, 101): 1, (1, 102): 1, (1, 103): 1, (1, 104): 1, (1, 105): 1, (1, 106): 1, (1, 107): 1, (1, 108): 1, (1, 109): 1, (1, 110): 1, (1, 111): 1, (1, 112): 1, (1, 113): 1, (1, 114): 1, (1, 115): 1, (1, 116): 1, (1, 117): 1, (1, 118): 1, (1, 119): 1, (1, 120): 1, (1, 121): 1, (1, 122): 1, (1, 123): 1, (1, 124): 1, (1, 125): 1, (1, 126): 1, (1, 127): 1, (1, 128): 1, (1, 129): 1, (1, 130): 1, (1, 131): 1, (1, 132): 1, (1, 133): 1, (1, 134): 1, (1, 135): 1, (1, 136): 1, (1, 137): 1, (1, 138): 1, (1, 139): 1, (1, 140): 1, (1, 141): 1, (1, 142): 1, (1, 143): 1, (1, 144): 1, (1, 145): 1, (1, 146): 1, (1, 147): 1, (1, 148): 1, (1, 149): 1, (1, 150): 1, (1, 151): 1, (1, 152): 1, (1, 153): 1, (1, 154): 1, (1, 155): 1, (1, 156): 1, (1, 157): 1, (1, 158): 1, (1, 159): 1, (1, 160): 1, (1, 161): 1, (1, 162): 1, (1, 163): 1, (1, 164): 1, (1, 165): 1, (1, 166): 1, (1, 167): 1, (1, 168): 1, (1, 169): 1, (1, 170): 1, (1, 171): 1, (1, 172): 1, (1, 173): 1, (1, 174): 1, (1, 175): 1, (1, 176): 1, (1, 177): 1, (1, 178): 1, (1, 179): 1, (1, 180): 1, (1, 181): 1, (1, 182): 1, (1, 183): 1, (1, 184): 1, (1, 185): 1, (1, 186): 1, (1, 187): 1, (1, 188): 1, (1, 189): 1, (1, 190): 1, (1, 191): 1, (1, 192): 1, (1, 193): 1, (1, 194): 1, (1, 195): 1, (1, 196): 1, (1, 197): 1, (1, 198): 1, (1, 199): 1, (1, 200): 1, (1, 201): 1, (1, 202): 1, (1, 203): 1, (1, 204): 1, (1, 205): 1, (1, 206): 1, (1, 207): 1, (1, 208): 1, (1, 209): 1, (1, 210): 1, (1, 211): 1, (1, 212): 1, (1, 213): 1, (1, 214): 1, (1, 215): 1, (1, 216): 1, (1, 217): 1, (1, 218): 1, (1, 219): 1, (1, 220): 1, (1, 221): 1, (1, 222): 1, (1, 223): 1, (1, 224): 1, (1, 225): 1, (1, 226): 1, (1, 227): 1, (1, 228): 1, (1, 229): 1, (1, 230): 1, (1, 231): 1, (1, 232): 1, (1, 233): 1, (1, 234): 1, (1, 235): 1, (1, 236): 1, (1, 237): 1, (1, 238): 1, (1, 239): 1, (1, 240): 1, (1, 241): 1, (1, 242): 1, (1, 243): 1, (1, 244): 1, (1, 245): 1, (1, 246): 1, (1, 247): 1, (1, 248): 1, (1, 249): 1, (1, 250): 1, (1, 251): 1, (1, 252): 1, (1, 253): 1, (1, 254): 1, (1, 255): 1, (1, 256): 1, (1, 257): 1, (1, 258): 1, (1, 259): 1, (1, 260): 1, (1, 261): 1, (1, 262): 1, (1, 263): 1, (1, 264): 1, (1, 265): 1, (1, 266): 1, (1, 267): 1, (1, 268): 1, (1, 269): 1, (1, 270): 1, (1, 271): 1, (1, 272): 1, (1, 273): 1, (1, 274): 1, (1, 275): 1, (1, 276): 1, (1, 277): 1, (1, 278): 1, (1, 279): 1, (1, 280): 1, (1, 281): 1, (1, 282): 1}]\n",
            "990\n"
          ]
        }
      ]
    },
    {
      "cell_type": "code",
      "source": [
        "import csv\n",
        "\n",
        "G_bot = nk.Graph()\n",
        "G_real = nk.Graph()\n",
        "\n",
        "bot = 0\n",
        "real = 0\n",
        "\n",
        "for i in range(len(G)):\n",
        "  if bot + real == 2:\n",
        "    break\n",
        "  if len(G[i][0]) < 4500:\n",
        "    if y[i] == 1 and bot == 0 and len(G[i][0]) > (len(G[i][1]) + 300):\n",
        "      with open('bot_example.csv', 'w') as f:\n",
        "        writer = csv.writer(f)\n",
        "        for u in G[i][0]:\n",
        "          l = list(u)       \n",
        "          G_bot.addEdge(l[0], l[1], addMissing=True)\n",
        "          writer.writerow(u)\n",
        "      bot = 1\n",
        "      print('found bot')\n",
        "      print(len(G[i][0]))\n",
        "      print(len(G[i][1]))\n",
        "    if y[i] == 2 and real == 0 and len(G[i][0]) > (len(G[i][1]) + 300):\n",
        "      with open('real_example.csv', 'w') as f:\n",
        "        writer = csv.writer(f)\n",
        "        for u in G[i][0]:\n",
        "          l = list(u)       \n",
        "          G_bot.addEdge(l[0], l[1], addMissing=True)\n",
        "          writer.writerow(u)\n",
        "      real = 1\n",
        "      print('found real')\n",
        "      print(len(G[i][0]))\n",
        "      print(len(G[i][1]))"
      ],
      "metadata": {
        "colab": {
          "base_uri": "https://localhost:8080/"
        },
        "id": "GXWpvHo_dxsU",
        "outputId": "20d7d1c0-2451-4621-fabb-50b50c2914d2"
      },
      "execution_count": null,
      "outputs": [
        {
          "output_type": "stream",
          "name": "stdout",
          "text": [
            "found bot\n",
            "4130\n",
            "3794\n",
            "found real\n",
            "3550\n",
            "3208\n"
          ]
        }
      ]
    },
    {
      "cell_type": "code",
      "source": [
        "print('------------------------------------------------')\n",
        "print('Overview of Bot Graph:')\n",
        "print('------------------------------------------------')\n",
        "nk.overview(G_bot)\n",
        "print('------------------------------------------------')\n",
        "print('Overview of Real User Graph:')\n",
        "print('------------------------------------------------')\n",
        "nk.overview(G_real)"
      ],
      "metadata": {
        "colab": {
          "base_uri": "https://localhost:8080/"
        },
        "id": "sYlxWO5ygf5d",
        "outputId": "6403c7b9-4825-4db0-d2dd-0b24784bb1af"
      },
      "execution_count": null,
      "outputs": [
        {
          "output_type": "stream",
          "name": "stdout",
          "text": [
            "------------------------------------------------\n",
            "Overview of Bot Graph:\n",
            "------------------------------------------------\n",
            "Network Properties:\n",
            "nodes, edges\t\t\t1857994, 4130\n",
            "directed?\t\t\tFalse\n",
            "weighted?\t\t\tFalse\n",
            "isolated nodes\t\t\t1854200\n",
            "self-loops\t\t\t0\n",
            "density\t\t\t\t0.000000\n",
            "clustering coefficient\t\t0.000237\n",
            "min/max/avg degree\t\t0, 1145, 0.004446\n",
            "degree assortativity\t\t-0.612449\n",
            "number of connected components\t1854201\n",
            "size of largest component\t3794 (0.20 %)\n",
            "------------------------------------------------\n",
            "Overview of Real User Graph:\n",
            "------------------------------------------------\n",
            "Network Properties:\n",
            "nodes, edges\t\t\t5474533, 3550\n",
            "directed?\t\t\tFalse\n",
            "weighted?\t\t\tFalse\n",
            "isolated nodes\t\t\t5471325\n",
            "self-loops\t\t\t0\n",
            "density\t\t\t\t0.000000\n",
            "clustering coefficient\t\t0.000124\n",
            "min/max/avg degree\t\t0, 2169, 0.001297\n",
            "degree assortativity\t\t-0.744063\n",
            "number of connected components\t5471326\n",
            "size of largest component\t3208 (0.06 %)\n"
          ]
        }
      ]
    }
  ]
}